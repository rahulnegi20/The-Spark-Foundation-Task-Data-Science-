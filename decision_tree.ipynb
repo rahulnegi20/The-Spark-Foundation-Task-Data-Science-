{
  "nbformat": 4,
  "nbformat_minor": 0,
  "metadata": {
    "colab": {
      "name": "decision-tree.ipynb",
      "provenance": [],
      "collapsed_sections": [],
      "mount_file_id": "1ufR6KljTE36nEubmJgNeVDXTB4CYFvQ4",
      "authorship_tag": "ABX9TyO2DhhGur4GZH1zurvJHhb4",
      "include_colab_link": true
    },
    "kernelspec": {
      "name": "python3",
      "display_name": "Python 3"
    }
  },
  "cells": [
    {
      "cell_type": "markdown",
      "metadata": {
        "id": "view-in-github",
        "colab_type": "text"
      },
      "source": [
        "<a href=\"https://colab.research.google.com/github/rahulnegi20/The-Spark-Foundation-Task-Data-Science-/blob/main/decision_tree.ipynb\" target=\"_parent\"><img src=\"https://colab.research.google.com/assets/colab-badge.svg\" alt=\"Open In Colab\"/></a>"
      ]
    },
    {
      "cell_type": "markdown",
      "metadata": {
        "id": "vIQE8bs44pjt"
      },
      "source": [
        "* ### Author | Rahul Negi "
      ]
    },
    {
      "cell_type": "markdown",
      "metadata": {
        "id": "KZuLHa2b9Zch"
      },
      "source": [
        "# Task - | Prediction using Decision Tree Algorithm\n",
        "\n",
        "* ### Data : https://bit.ly/3kXTdox\n",
        "## **The purpose is if we feed any new data to the classifier, it would be able to predict the right class accordingly.**\n"
      ]
    },
    {
      "cell_type": "code",
      "metadata": {
        "id": "QuuAxssK-6Mf",
        "outputId": "5f8cab90-1287-4c8b-d818-1a6aa1d760c3",
        "colab": {
          "base_uri": "https://localhost:8080/",
          "height": 206
        }
      },
      "source": [
        "# importing libraries\n",
        "import numpy as np\n",
        "import pandas as pd\n",
        "import matplotlib.pyplot as plt\n",
        "\n",
        "from sklearn import tree\n",
        "#loadind dataset\n",
        "iris = pd.read_csv('drive/MyDrive/ML-DATA/Iris.csv')\n",
        "\n",
        "iris.head()"
      ],
      "execution_count": null,
      "outputs": [
        {
          "output_type": "execute_result",
          "data": {
            "text/html": [
              "<div>\n",
              "<style scoped>\n",
              "    .dataframe tbody tr th:only-of-type {\n",
              "        vertical-align: middle;\n",
              "    }\n",
              "\n",
              "    .dataframe tbody tr th {\n",
              "        vertical-align: top;\n",
              "    }\n",
              "\n",
              "    .dataframe thead th {\n",
              "        text-align: right;\n",
              "    }\n",
              "</style>\n",
              "<table border=\"1\" class=\"dataframe\">\n",
              "  <thead>\n",
              "    <tr style=\"text-align: right;\">\n",
              "      <th></th>\n",
              "      <th>Id</th>\n",
              "      <th>SepalLengthCm</th>\n",
              "      <th>SepalWidthCm</th>\n",
              "      <th>PetalLengthCm</th>\n",
              "      <th>PetalWidthCm</th>\n",
              "      <th>Species</th>\n",
              "    </tr>\n",
              "  </thead>\n",
              "  <tbody>\n",
              "    <tr>\n",
              "      <th>0</th>\n",
              "      <td>1</td>\n",
              "      <td>5.1</td>\n",
              "      <td>3.5</td>\n",
              "      <td>1.4</td>\n",
              "      <td>0.2</td>\n",
              "      <td>Iris-setosa</td>\n",
              "    </tr>\n",
              "    <tr>\n",
              "      <th>1</th>\n",
              "      <td>2</td>\n",
              "      <td>4.9</td>\n",
              "      <td>3.0</td>\n",
              "      <td>1.4</td>\n",
              "      <td>0.2</td>\n",
              "      <td>Iris-setosa</td>\n",
              "    </tr>\n",
              "    <tr>\n",
              "      <th>2</th>\n",
              "      <td>3</td>\n",
              "      <td>4.7</td>\n",
              "      <td>3.2</td>\n",
              "      <td>1.3</td>\n",
              "      <td>0.2</td>\n",
              "      <td>Iris-setosa</td>\n",
              "    </tr>\n",
              "    <tr>\n",
              "      <th>3</th>\n",
              "      <td>4</td>\n",
              "      <td>4.6</td>\n",
              "      <td>3.1</td>\n",
              "      <td>1.5</td>\n",
              "      <td>0.2</td>\n",
              "      <td>Iris-setosa</td>\n",
              "    </tr>\n",
              "    <tr>\n",
              "      <th>4</th>\n",
              "      <td>5</td>\n",
              "      <td>5.0</td>\n",
              "      <td>3.6</td>\n",
              "      <td>1.4</td>\n",
              "      <td>0.2</td>\n",
              "      <td>Iris-setosa</td>\n",
              "    </tr>\n",
              "  </tbody>\n",
              "</table>\n",
              "</div>"
            ],
            "text/plain": [
              "   Id  SepalLengthCm  SepalWidthCm  PetalLengthCm  PetalWidthCm      Species\n",
              "0   1            5.1           3.5            1.4           0.2  Iris-setosa\n",
              "1   2            4.9           3.0            1.4           0.2  Iris-setosa\n",
              "2   3            4.7           3.2            1.3           0.2  Iris-setosa\n",
              "3   4            4.6           3.1            1.5           0.2  Iris-setosa\n",
              "4   5            5.0           3.6            1.4           0.2  Iris-setosa"
            ]
          },
          "metadata": {
            "tags": []
          },
          "execution_count": 1
        }
      ]
    },
    {
      "cell_type": "code",
      "metadata": {
        "id": "IRAUD-n0B76q",
        "outputId": "a0f6fcfe-7f05-46c5-f66c-34b5a4c5a4a0",
        "colab": {
          "base_uri": "https://localhost:8080/"
        }
      },
      "source": [
        "#checking if data has missing values or not\n",
        "iris.isna().sum()"
      ],
      "execution_count": null,
      "outputs": [
        {
          "output_type": "execute_result",
          "data": {
            "text/plain": [
              "Id               0\n",
              "SepalLengthCm    0\n",
              "SepalWidthCm     0\n",
              "PetalLengthCm    0\n",
              "PetalWidthCm     0\n",
              "Species          0\n",
              "dtype: int64"
            ]
          },
          "metadata": {
            "tags": []
          },
          "execution_count": 2
        }
      ]
    },
    {
      "cell_type": "markdown",
      "metadata": {
        "id": "SNM0rRGZGj81"
      },
      "source": [
        "Our data is in perfect shape"
      ]
    },
    {
      "cell_type": "code",
      "metadata": {
        "id": "Gyrf0064HYj7",
        "outputId": "f1c99129-80fb-4d52-82ea-15be4267041d",
        "colab": {
          "base_uri": "https://localhost:8080/",
          "height": 265
        }
      },
      "source": [
        "iris.PetalWidthCm.plot();"
      ],
      "execution_count": null,
      "outputs": [
        {
          "output_type": "display_data",
          "data": {
            "image/png": "[encoded data removed]",
            "text/plain": [
              "<Figure size 432x288 with 1 Axes>"
            ]
          },
          "metadata": {
            "tags": [],
            "needs_background": "light"
          }
        }
      ]
    },
    {
      "cell_type": "code",
      "metadata": {
        "id": "hdo7AblIHBg_",
        "outputId": "85f7856b-65cf-4f5e-be84-8c66eff5f25a",
        "colab": {
          "base_uri": "https://localhost:8080/"
        }
      },
      "source": [
        "#spliting the data\n",
        "X = iris.iloc[:, :5]\n",
        "y = iris.Species\n",
        "\n",
        "print(X.shape, y.shape)"
      ],
      "execution_count": null,
      "outputs": [
        {
          "output_type": "stream",
          "text": [
            "(150, 4) (150,)\n"
          ],
          "name": "stdout"
        }
      ]
    },
    {
      "cell_type": "code",
      "metadata": {
        "id": "EpEjcIfZn9I2",
        "outputId": "3545cddc-1ff3-4d4f-b324-de11c25f487c",
        "colab": {
          "base_uri": "https://localhost:8080/",
          "height": 424
        }
      },
      "source": [
        "X"
      ],
      "execution_count": null,
      "outputs": [
        {
          "output_type": "execute_result",
          "data": {
            "text/html": [
              "<div>\n",
              "<style scoped>\n",
              "    .dataframe tbody tr th:only-of-type {\n",
              "        vertical-align: middle;\n",
              "    }\n",
              "\n",
              "    .dataframe tbody tr th {\n",
              "        vertical-align: top;\n",
              "    }\n",
              "\n",
              "    .dataframe thead th {\n",
              "        text-align: right;\n",
              "    }\n",
              "</style>\n",
              "<table border=\"1\" class=\"dataframe\">\n",
              "  <thead>\n",
              "    <tr style=\"text-align: right;\">\n",
              "      <th></th>\n",
              "      <th>SepalLengthCm</th>\n",
              "      <th>SepalWidthCm</th>\n",
              "      <th>PetalLengthCm</th>\n",
              "      <th>PetalWidthCm</th>\n",
              "    </tr>\n",
              "  </thead>\n",
              "  <tbody>\n",
              "    <tr>\n",
              "      <th>0</th>\n",
              "      <td>5.1</td>\n",
              "      <td>3.5</td>\n",
              "      <td>1.4</td>\n",
              "      <td>0.2</td>\n",
              "    </tr>\n",
              "    <tr>\n",
              "      <th>1</th>\n",
              "      <td>4.9</td>\n",
              "      <td>3.0</td>\n",
              "      <td>1.4</td>\n",
              "      <td>0.2</td>\n",
              "    </tr>\n",
              "    <tr>\n",
              "      <th>2</th>\n",
              "      <td>4.7</td>\n",
              "      <td>3.2</td>\n",
              "      <td>1.3</td>\n",
              "      <td>0.2</td>\n",
              "    </tr>\n",
              "    <tr>\n",
              "      <th>3</th>\n",
              "      <td>4.6</td>\n",
              "      <td>3.1</td>\n",
              "      <td>1.5</td>\n",
              "      <td>0.2</td>\n",
              "    </tr>\n",
              "    <tr>\n",
              "      <th>4</th>\n",
              "      <td>5.0</td>\n",
              "      <td>3.6</td>\n",
              "      <td>1.4</td>\n",
              "      <td>0.2</td>\n",
              "    </tr>\n",
              "    <tr>\n",
              "      <th>...</th>\n",
              "      <td>...</td>\n",
              "      <td>...</td>\n",
              "      <td>...</td>\n",
              "      <td>...</td>\n",
              "    </tr>\n",
              "    <tr>\n",
              "      <th>145</th>\n",
              "      <td>6.7</td>\n",
              "      <td>3.0</td>\n",
              "      <td>5.2</td>\n",
              "      <td>2.3</td>\n",
              "    </tr>\n",
              "    <tr>\n",
              "      <th>146</th>\n",
              "      <td>6.3</td>\n",
              "      <td>2.5</td>\n",
              "      <td>5.0</td>\n",
              "      <td>1.9</td>\n",
              "    </tr>\n",
              "    <tr>\n",
              "      <th>147</th>\n",
              "      <td>6.5</td>\n",
              "      <td>3.0</td>\n",
              "      <td>5.2</td>\n",
              "      <td>2.0</td>\n",
              "    </tr>\n",
              "    <tr>\n",
              "      <th>148</th>\n",
              "      <td>6.2</td>\n",
              "      <td>3.4</td>\n",
              "      <td>5.4</td>\n",
              "      <td>2.3</td>\n",
              "    </tr>\n",
              "    <tr>\n",
              "      <th>149</th>\n",
              "      <td>5.9</td>\n",
              "      <td>3.0</td>\n",
              "      <td>5.1</td>\n",
              "      <td>1.8</td>\n",
              "    </tr>\n",
              "  </tbody>\n",
              "</table>\n",
              "<p>150 rows × 4 columns</p>\n",
              "</div>"
            ],
            "text/plain": [
              "     SepalLengthCm  SepalWidthCm  PetalLengthCm  PetalWidthCm\n",
              "0              5.1           3.5            1.4           0.2\n",
              "1              4.9           3.0            1.4           0.2\n",
              "2              4.7           3.2            1.3           0.2\n",
              "3              4.6           3.1            1.5           0.2\n",
              "4              5.0           3.6            1.4           0.2\n",
              "..             ...           ...            ...           ...\n",
              "145            6.7           3.0            5.2           2.3\n",
              "146            6.3           2.5            5.0           1.9\n",
              "147            6.5           3.0            5.2           2.0\n",
              "148            6.2           3.4            5.4           2.3\n",
              "149            5.9           3.0            5.1           1.8\n",
              "\n",
              "[150 rows x 4 columns]"
            ]
          },
          "metadata": {
            "tags": []
          },
          "execution_count": 5
        }
      ]
    },
    {
      "cell_type": "code",
      "metadata": {
        "id": "0BErMutFHIJf"
      },
      "source": [
        "### Training the model\n",
        "from sklearn.model_selection import train_test_split\n",
        "X_train, X_test, y_train, y_test = train_test_split(X,y, test_size=0.2, random_state=0)"
      ],
      "execution_count": null,
      "outputs": []
    },
    {
      "cell_type": "markdown",
      "metadata": {
        "id": "eKpRb0GNJWuE"
      },
      "source": [
        "### Decision Tree Model 1 (Priliminary Approach)"
      ]
    },
    {
      "cell_type": "code",
      "metadata": {
        "id": "nMHEjqQVHI86",
        "outputId": "afee0f55-4caa-4060-9b03-6cf1fc16c9a2",
        "colab": {
          "base_uri": "https://localhost:8080/"
        }
      },
      "source": [
        "from sklearn.tree import DecisionTreeClassifier\n",
        "dtree = DecisionTreeClassifier()\n",
        "dtree.fit(X_train, y_train)"
      ],
      "execution_count": null,
      "outputs": [
        {
          "output_type": "execute_result",
          "data": {
            "text/plain": [
              "DecisionTreeClassifier(ccp_alpha=0.0, class_weight=None, criterion='gini',\n",
              "                       max_depth=None, max_features=None, max_leaf_nodes=None,\n",
              "                       min_impurity_decrease=0.0, min_impurity_split=None,\n",
              "                       min_samples_leaf=1, min_samples_split=2,\n",
              "                       min_weight_fraction_leaf=0.0, presort='deprecated',\n",
              "                       random_state=None, splitter='best')"
            ]
          },
          "metadata": {
            "tags": []
          },
          "execution_count": 7
        }
      ]
    },
    {
      "cell_type": "code",
      "metadata": {
        "id": "ZSU_QRm_JTpJ",
        "outputId": "57fd4f8f-4931-4b99-a4cd-8c4ed6d65c76",
        "colab": {
          "base_uri": "https://localhost:8080/"
        }
      },
      "source": [
        "from sklearn.model_selection import cross_val_score\n",
        "### Checking the model score\n",
        "print('Score of our Model 1 :', dtree.score(X_test, y_test))\n",
        "#checking the cross-validation accuracy score\n",
        "cv_score = cross_val_score(dtree, X_train, y_train, cv=20, scoring=\"accuracy\", n_jobs=-1)\n",
        "print('Accuracy of CV in Model 1 :', cv_score.mean()*100)"
      ],
      "execution_count": null,
      "outputs": [
        {
          "output_type": "stream",
          "text": [
            "Score of our Model 1 : 1.0\n",
            "Accuracy of CV in Model 1 : 93.33333333333333\n"
          ],
          "name": "stdout"
        }
      ]
    },
    {
      "cell_type": "markdown",
      "metadata": {
        "id": "x67zbiQGLChY"
      },
      "source": [
        "We can see our model is scoring 1, which means our model is overfitting, so lets tune our model to improve our model accuracy"
      ]
    },
    {
      "cell_type": "markdown",
      "metadata": {
        "id": "aLYhjiBXMEFG"
      },
      "source": [
        "### Decision Tree Model 2(Minimizing Impurity Approach)"
      ]
    },
    {
      "cell_type": "code",
      "metadata": {
        "id": "RZLOh6D8O9ar",
        "outputId": "92c2089e-e23d-4953-8e5a-69cbce6d2cc5",
        "colab": {
          "base_uri": "https://localhost:8080/"
        }
      },
      "source": [
        "dtree_2 = DecisionTreeClassifier(criterion='gini', random_state=0)\n",
        "dtree_2.fit(X_train, y_train)\n",
        "\n",
        "#scoring\n",
        "dtree_2.score(X_test, y_test)\n",
        "print('Score of Model 2 :', dtree_2.score(X_test, y_test))\n",
        "#cv scoring\n",
        "cv_score_2 = cross_val_score(dtree_2, X_train, y_train, cv=20, scoring=\"accuracy\", n_jobs=-1)\n",
        "print('Accuracy of CV in Model 2 : ', cv_score_2.mean()*100)"
      ],
      "execution_count": null,
      "outputs": [
        {
          "output_type": "stream",
          "text": [
            "Score of Model 2 : 1.0\n",
            "Accuracy of CV in Model 2 :  92.5\n"
          ],
          "name": "stdout"
        }
      ]
    },
    {
      "cell_type": "markdown",
      "metadata": {
        "id": "kuUUJ5EtPm-u"
      },
      "source": [
        "Our model is still overfitting!!!!!!!"
      ]
    },
    {
      "cell_type": "markdown",
      "metadata": {
        "id": "hW9nw7i9Qx7y"
      },
      "source": [
        "### Decision Tree Model 3(Optimizing Hyperparameters by GridSearch Approach)"
      ]
    },
    {
      "cell_type": "code",
      "metadata": {
        "id": "CcnCVcYVQ5EY"
      },
      "source": [
        "from sklearn.model_selection import GridSearchCV\n",
        "dtree_3 = DecisionTreeClassifier(random_state=0)\n",
        "\n",
        "params_dt={\n",
        "    \"max_depth\":[1,2,3,4,5,6,7,8],\n",
        "    \"min_samples_leaf\":list(map(lambda x:x/1000,range(1,100,1))),\n",
        "    \"max_features\":[1,2,3,4]\n",
        "}\n",
        "\n",
        "grid_dt=GridSearchCV(estimator=dtree_3, param_grid=params_dt, scoring=\"accuracy\", cv=20, n_jobs=-1)"
      ],
      "execution_count": null,
      "outputs": []
    },
    {
      "cell_type": "code",
      "metadata": {
        "id": "gZfKQsmZWiNE",
        "outputId": "28ec4e59-4d7e-4ebf-805e-1a198ce206d7",
        "colab": {
          "base_uri": "https://localhost:8080/"
        }
      },
      "source": [
        "grid_dt.fit(X_train, y_train)"
      ],
      "execution_count": null,
      "outputs": [
        {
          "output_type": "execute_result",
          "data": {
            "text/plain": [
              "GridSearchCV(cv=20, error_score=nan,\n",
              "             estimator=DecisionTreeClassifier(ccp_alpha=0.0, class_weight=None,\n",
              "                                              criterion='gini', max_depth=None,\n",
              "                                              max_features=None,\n",
              "                                              max_leaf_nodes=None,\n",
              "                                              min_impurity_decrease=0.0,\n",
              "                                              min_impurity_split=None,\n",
              "                                              min_samples_leaf=1,\n",
              "                                              min_samples_split=2,\n",
              "                                              min_weight_fraction_leaf=0.0,\n",
              "                                              presort='deprecated',\n",
              "                                              random_state=0, splitter='best'),\n",
              "             iid='depr...\n",
              "             param_grid={'max_depth': [1, 2, 3, 4, 5, 6, 7, 8],\n",
              "                         'max_features': [1, 2, 3, 4],\n",
              "                         'min_samples_leaf': [0.001, 0.002, 0.003, 0.004, 0.005,\n",
              "                                              0.006, 0.007, 0.008, 0.009, 0.01,\n",
              "                                              0.011, 0.012, 0.013, 0.014, 0.015,\n",
              "                                              0.016, 0.017, 0.018, 0.019, 0.02,\n",
              "                                              0.021, 0.022, 0.023, 0.024, 0.025,\n",
              "                                              0.026, 0.027, 0.028, 0.029, 0.03, ...]},\n",
              "             pre_dispatch='2*n_jobs', refit=True, return_train_score=False,\n",
              "             scoring='accuracy', verbose=0)"
            ]
          },
          "metadata": {
            "tags": []
          },
          "execution_count": 11
        }
      ]
    },
    {
      "cell_type": "code",
      "metadata": {
        "id": "HpnbacoNWw7g",
        "outputId": "6abee222-bb1c-48e6-a3db-78789277ba29",
        "colab": {
          "base_uri": "https://localhost:8080/"
        }
      },
      "source": [
        "grid_dt.best_estimator_"
      ],
      "execution_count": null,
      "outputs": [
        {
          "output_type": "execute_result",
          "data": {
            "text/plain": [
              "DecisionTreeClassifier(ccp_alpha=0.0, class_weight=None, criterion='gini',\n",
              "                       max_depth=2, max_features=2, max_leaf_nodes=None,\n",
              "                       min_impurity_decrease=0.0, min_impurity_split=None,\n",
              "                       min_samples_leaf=0.001, min_samples_split=2,\n",
              "                       min_weight_fraction_leaf=0.0, presort='deprecated',\n",
              "                       random_state=0, splitter='best')"
            ]
          },
          "metadata": {
            "tags": []
          },
          "execution_count": 12
        }
      ]
    },
    {
      "cell_type": "code",
      "metadata": {
        "id": "60BazB6qXtVr",
        "outputId": "5f8170c0-742b-4b2f-9bbd-264cde11ddcd",
        "colab": {
          "base_uri": "https://localhost:8080/"
        }
      },
      "source": [
        "final_model =grid_dt.best_estimator_\n",
        "final_model.fit(X_train, y_train)\n"
      ],
      "execution_count": null,
      "outputs": [
        {
          "output_type": "execute_result",
          "data": {
            "text/plain": [
              "DecisionTreeClassifier(ccp_alpha=0.0, class_weight=None, criterion='gini',\n",
              "                       max_depth=2, max_features=2, max_leaf_nodes=None,\n",
              "                       min_impurity_decrease=0.0, min_impurity_split=None,\n",
              "                       min_samples_leaf=0.001, min_samples_split=2,\n",
              "                       min_weight_fraction_leaf=0.0, presort='deprecated',\n",
              "                       random_state=0, splitter='best')"
            ]
          },
          "metadata": {
            "tags": []
          },
          "execution_count": 13
        }
      ]
    },
    {
      "cell_type": "code",
      "metadata": {
        "id": "ZJ6UEqycYZiy",
        "outputId": "88e0867d-8987-4964-e070-d1419bb8fc84",
        "colab": {
          "base_uri": "https://localhost:8080/"
        }
      },
      "source": [
        "# Model scoring\n",
        "print('Model 3 Score :',final_model.score(X_test, y_test))\n",
        "\n",
        "#CV scoring\n",
        "print('CV accuracy score : ', grid_dt.best_score_*100)"
      ],
      "execution_count": null,
      "outputs": [
        {
          "output_type": "stream",
          "text": [
            "Model 3 Score : 0.9666666666666667\n",
            "CV accuracy score :  95.0\n"
          ],
          "name": "stdout"
        }
      ]
    },
    {
      "cell_type": "markdown",
      "metadata": {
        "id": "0uHB7PHxYqS6"
      },
      "source": [
        "Finally our model is not overfitting or underfitting now we can proceed to Visualise the decision tree.\n"
      ]
    },
    {
      "cell_type": "markdown",
      "metadata": {
        "id": "8WU4w2v7aFmh"
      },
      "source": [
        "### Visualising the Final Model"
      ]
    },
    {
      "cell_type": "code",
      "metadata": {
        "id": "pCrP8aEZqa0e"
      },
      "source": [
        "import sklearn.datasets as datasets\n",
        "# Load the iris dataset\n",
        "iris_df = datasets.load_iris()"
      ],
      "execution_count": null,
      "outputs": []
    },
    {
      "cell_type": "code",
      "metadata": {
        "id": "iRAvNvmQaP3k",
        "outputId": "b8dc3b6a-482d-424f-c979-e949a988ea6d",
        "colab": {
          "base_uri": "https://localhost:8080/",
          "height": 575
        }
      },
      "source": [
        "fig = plt.figure(figsize=(10,10))\n",
        "#ploting the tree\n",
        "tree.plot_tree(final_model, feature_names=iris_df.feature_names,\n",
        "               class_names = iris_df.target_names,\n",
        "               filled=True,\n",
        "               impurity=True,\n",
        "               node_ids=True,\n",
        "               proportion=True,\n",
        "              \n",
        "               );"
      ],
      "execution_count": null,
      "outputs": [
        {
          "output_type": "display_data",
          "data": {
            "image/png": "[encoded data removed]",
            "text/plain": [
              "<Figure size 720x720 with 1 Axes>"
            ]
          },
          "metadata": {
            "tags": [],
            "needs_background": "light"
          }
        }
      ]
    },
    {
      "cell_type": "code",
      "metadata": {
        "id": "ih5cPD3RteBI"
      },
      "source": [
        ""
      ],
      "execution_count": null,
      "outputs": []
    }
  ]
}